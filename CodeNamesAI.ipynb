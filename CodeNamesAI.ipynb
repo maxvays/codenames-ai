{
 "cells": [
  {
   "cell_type": "code",
   "execution_count": 158,
   "id": "4b21f33c",
   "metadata": {},
   "outputs": [],
   "source": [
    "import numpy as np\n",
    "from scipy import spatial\n",
    "import random\n",
    "import itertools\n",
    "from enum import Enum"
   ]
  },
  {
   "cell_type": "code",
   "execution_count": 191,
   "id": "39f7b83a",
   "metadata": {},
   "outputs": [],
   "source": [
    "vocabulary = []\n",
    "\n",
    "with open('codenamesvocab.txt', 'r') as f:\n",
    "    vocabulary = [word.lower() for word in f.read().splitlines()]\n",
    "\n",
    "vocabulary.remove('loch ness')\n",
    "vocabulary.remove('ice cream')\n",
    "vocabulary.remove('new york')\n",
    "vocabulary.remove('scuba diver')"
   ]
  },
  {
   "cell_type": "code",
   "execution_count": 159,
   "id": "86d99f78",
   "metadata": {},
   "outputs": [],
   "source": [
    "class Color(Enum):\n",
    "    RED = 1\n",
    "    BLUE = 2\n",
    "    GREY = 3\n",
    "    BLACK = 4"
   ]
  },
  {
   "cell_type": "code",
   "execution_count": null,
   "id": "41d8f3e0",
   "metadata": {},
   "outputs": [],
   "source": [
    "class Game:\n",
    "    def __init__(self, )"
   ]
  },
  {
   "cell_type": "code",
   "execution_count": 49,
   "id": "8bee7907",
   "metadata": {},
   "outputs": [],
   "source": [
    "class Card:\n",
    "    def __init__(self, word, color, flipped = False):\n",
    "        self.word = word\n",
    "        self.color = color\n",
    "        self.flipped = flipped"
   ]
  },
  {
   "cell_type": "code",
   "execution_count": 310,
   "id": "3122fc56",
   "metadata": {},
   "outputs": [],
   "source": [
    "class Board:\n",
    "    def __init__(self, cards, threshold=.4):\n",
    "        self.length = len(cards)\n",
    "        self.threshold = threshold\n",
    "        self.clueList = set()\n",
    "        self.words = cards\n",
    "        self.distances  = {}\n",
    "        for card in self.words:\n",
    "            distToWords = {word : dist \\\n",
    "                           for word, dist in [(word, distBtwnWords(card.word, word)) for word in glove.keys()]}\n",
    "            self.clueList.update([word for word, dist in distToWords.items() if dist < .4])\n",
    "            self.distances[card.word] = distToWords\n",
    "        for card in self.words:\n",
    "            self.clueList.remove(card.word)\n",
    "        \n",
    "    def __str__(self):\n",
    "        res = \"\"\n",
    "        for i in range(self.length):\n",
    "            for j in range(self.length):\n",
    "                res += self.words[i*self.length + j].word + \" \"*(12 - len(self.words[i*self.length + j].word))\n",
    "            res += \"\\n\"\n",
    "        return res\n",
    "    \n",
    "    def getColor(self, color):\n",
    "        return [card.word for card in self.words if card.color == color]\n",
    "    \n",
    "    def findClosest(self, wordList):\n",
    "        best = min(self.clueList, key = lambda clue : (lambda k : sum(k)/len(k))([self.distances[word][clue] for word in wordList]))\n",
    "        return (lambda k : sum(k)/len(k))([self.distances[word][best] for word in wordList]), best\n",
    "    \n",
    "    def findNClosest(self, wordList, n):\n",
    "        best = sorted([((lambda k : sum(k)/len(k))([self.distances[word][clue] for word in wordList]), clue) for clue in self.clueList])\n",
    "        return best[:n]\n",
    "    \n",
    "    def findBest(self, subsetSize):\n",
    "        subsets = getSubsets([card.word for card in self.words], subsetSize)\n",
    "        curBestWord = 'N/A'\n",
    "        curBestScore = 100\n",
    "        for subset in subsets:\n",
    "#             print(subset)\n",
    "            score, word = self.findClosest(subset)\n",
    "            if score < curBestScore:\n",
    "                curBestWord = word\n",
    "                curBestScore = score\n",
    "                if curBestScore < .4:\n",
    "                    print(subset, curBestWord, curBestScore)\n",
    "        return curBestScore, best\n",
    "    \n",
    "    def findNBest(self, subsetSize, n):\n",
    "        subsets = getSubsets([card.word for card in self.words], subsetSize)\n",
    "        bestWordsList = []\n",
    "        for subset in subsets:\n",
    "#             print(subset)\n",
    "            words = [(score, word, subset) for score, word in self.findNClosest(subset, n)]\n",
    "            bestWordsList.extend(words)\n",
    "        return sorted(bestWordsList)[:n]"
   ]
  },
  {
   "cell_type": "code",
   "execution_count": 313,
   "id": "da013016",
   "metadata": {},
   "outputs": [],
   "source": [
    "glove = {}\n",
    "with open('glove_embeddings/glove.6B.50d.txt','r') as f:\n",
    "    for line in f.read().splitlines():\n",
    "        items = line.split(' ')\n",
    "        glove[items[0]] = np.array([float(x) for x in items[1:]])\n",
    "badwords = ['put', 'instead','when','then','while','from','on','the','along','where','into','of','be','to','and','a','in','that','have','i','it','for','not','with','he','as','you','do','at','this','but']\n",
    "for wd in badwords:\n",
    "    glove.pop(wd)"
   ]
  },
  {
   "cell_type": "code",
   "execution_count": 12,
   "id": "ee448f4d",
   "metadata": {},
   "outputs": [],
   "source": [
    "def distBtwnWords(word1, word2):\n",
    "    return spatial.distance.cosine(glove[word1], glove[word2])\n",
    "def wordDiff(word1, word2):\n",
    "    return glove[word1] - glove[word2]"
   ]
  },
  {
   "cell_type": "code",
   "execution_count": 32,
   "id": "949b9b7b",
   "metadata": {},
   "outputs": [
    {
     "name": "stdout",
     "output_type": "stream",
     "text": [
      "[-0.23046    0.65937   -0.28411   -0.44366    1.5922     1.8564\n",
      " -0.0054708 -0.58679   -0.1506    -0.021166   1.1029    -0.79502\n",
      "  1.1899     0.53535    0.25256   -0.15882   -0.31825    0.53609\n",
      " -0.5944    -0.21288   -0.94989    0.91619    0.4879     0.77063\n",
      " -0.16215   -1.0515    -0.70571   -0.79814   -0.79354   -0.086372\n",
      "  2.2497     0.68785   -0.085613  -0.68004    0.62212   -0.02536\n",
      "  0.10967   -0.38748   -0.62791   -1.0871    -0.37412   -0.061965\n",
      "  0.19225    0.89263    0.51763   -1.4791    -0.23219   -1.1589\n",
      "  0.066075  -0.038772 ]\n"
     ]
    }
   ],
   "source": [
    "print(glove['male'])"
   ]
  },
  {
   "cell_type": "code",
   "execution_count": 31,
   "id": "92c5dfc2",
   "metadata": {},
   "outputs": [
    {
     "name": "stdout",
     "output_type": "stream",
     "text": [
      "0.07819947262307503 0.3308377727652998 0.30423994470115245\n"
     ]
    }
   ],
   "source": [
    "print(distBtwnWords('dog','cat'), distBtwnWords('dog','bird'), distBtwnWords('cat','bird'))"
   ]
  },
  {
   "cell_type": "code",
   "execution_count": 34,
   "id": "9a08124f",
   "metadata": {},
   "outputs": [
    {
     "name": "stdout",
     "output_type": "stream",
     "text": [
      "[ 0.11008   -0.38781   -0.57615   -0.27714    0.70521    0.53994\n",
      " -1.0786    -0.40146    1.1504    -0.5678     0.0038977  0.52878\n",
      "  0.64561    0.47262    0.48549   -0.18407    0.1801     0.91397\n",
      " -1.1979    -0.5778    -0.37985    0.33606    0.772      0.75555\n",
      "  0.45506   -1.7671    -1.0503     0.42566    0.41893   -0.68327\n",
      "  1.5673     0.27685   -0.61708    0.64638   -0.076996   0.37118\n",
      "  0.1308    -0.45137    0.25398   -0.74392   -0.086199   0.24068\n",
      " -0.64819    0.83549    1.2502    -0.51379    0.04224   -0.88118\n",
      "  0.7158     0.38519  ] \n",
      " [ 0.45281  -0.50108  -0.53714  -0.015697  0.22191   0.54602  -0.67301\n",
      " -0.6891    0.63493  -0.19726   0.33685   0.7735    0.90094   0.38488\n",
      "  0.38367   0.2657   -0.08057   0.61089  -1.2894   -0.22313  -0.61578\n",
      "  0.21697   0.35614   0.44499   0.60885  -1.1633   -1.1579    0.36118\n",
      "  0.10466  -0.78325   1.4352    0.18629  -0.26112   0.83275  -0.23123\n",
      "  0.32481   0.14485  -0.44552   0.33497  -0.95946  -0.097479  0.48138\n",
      " -0.43352   0.69455   0.91043  -0.28173   0.41637  -1.2609    0.71278\n",
      "  0.23782 ] \n",
      " [ 0.78675   0.079368 -0.76597   0.1931    0.55014   0.26493  -0.75841\n",
      " -0.8818    1.6468   -0.54381   0.33519   0.44399   1.089     0.27044\n",
      "  0.74471   0.2487    0.2491   -0.28966  -1.4556    0.35605  -1.1725\n",
      " -0.49858   0.35345  -0.1418    0.71734  -1.1416   -0.038701  0.27515\n",
      " -0.017704 -0.44013   1.9597   -0.064666  0.47177  -0.03     -0.31617\n",
      "  0.26984   0.56195  -0.27882  -0.36358  -0.21923  -0.75046   0.31817\n",
      "  0.29354   0.25109   1.6111    0.7134   -0.15243  -0.25362   0.26419\n",
      "  0.15875 ]\n"
     ]
    }
   ],
   "source": [
    "print(glove['dog'],\"\\n\",glove['cat'],\"\\n\",glove['bird'])"
   ]
  },
  {
   "cell_type": "code",
   "execution_count": 43,
   "id": "6e6c3570",
   "metadata": {},
   "outputs": [
    {
     "name": "stdout",
     "output_type": "stream",
     "text": [
      "0.7283124287728622\n"
     ]
    }
   ],
   "source": [
    "print(distBtwnWords('male','king'))"
   ]
  },
  {
   "cell_type": "code",
   "execution_count": 28,
   "id": "4c73cc11",
   "metadata": {},
   "outputs": [
    {
     "name": "stdout",
     "output_type": "stream",
     "text": [
      "0.4519707881531245\n"
     ]
    }
   ],
   "source": [
    "print(spatial.distance.cosine(wordDiff('male', 'king'), wordDiff('male','actor')))"
   ]
  },
  {
   "cell_type": "code",
   "execution_count": 25,
   "id": "1cdb6a99",
   "metadata": {},
   "outputs": [
    {
     "name": "stdout",
     "output_type": "stream",
     "text": [
      "the 0.18575387776885832\n",
      ", 0.2074276278753181\n",
      ". 0.2085963564891905\n",
      "of 0.20482632906730824\n",
      "to 0.19189685258843636\n",
      "and 0.20081407836221077\n",
      "in 0.18892307203990266\n",
      "a 0.15465014174261316\n",
      "\" 0.1410967561280949\n",
      "'s 0.21773113418434242\n",
      "for 0.1703003554588941\n",
      "- 0.11110574776606674\n",
      "that 0.1593307854630318\n",
      "on 0.16953377889238586\n",
      "is 0.1701913687060963\n",
      "was 0.22289563853031347\n",
      "said 0.11730708504128629\n",
      "with 0.18009814353505393\n",
      "he 0.18909176633982105\n",
      "as 0.23620560566113724\n"
     ]
    }
   ],
   "source": [
    "for key in list(glove.keys())[:20]:\n",
    "    print(key, spatial.distance.cosine(wordDiff(key, 'king'), wordDiff(key,'prince')))"
   ]
  },
  {
   "cell_type": "code",
   "execution_count": 47,
   "id": "f2feecc0",
   "metadata": {},
   "outputs": [
    {
     "data": {
      "text/plain": [
       "'shortcake'"
      ]
     },
     "execution_count": 47,
     "metadata": {},
     "output_type": "execute_result"
    }
   ],
   "source": [
    "min(glove.keys(), key = lambda word: 1 if word == 'strawberry' else distBtwnWords(word, 'strawberry'))"
   ]
  },
  {
   "cell_type": "code",
   "execution_count": 137,
   "id": "cc8c5cfb",
   "metadata": {},
   "outputs": [
    {
     "data": {
      "text/plain": [
       "'MILLIONAIRE'"
      ]
     },
     "execution_count": 137,
     "metadata": {},
     "output_type": "execute_result"
    }
   ],
   "source": [
    "max(vocabulary, key=lambda word : len(word))"
   ]
  },
  {
   "cell_type": "code",
   "execution_count": 193,
   "id": "3135248a",
   "metadata": {},
   "outputs": [],
   "source": [
    "brd = Board(vocabulary)"
   ]
  },
  {
   "cell_type": "code",
   "execution_count": 194,
   "id": "f2bebfef",
   "metadata": {},
   "outputs": [
    {
     "name": "stdout",
     "output_type": "stream",
     "text": [
      "back        pass        seal        soldier     temple      \n",
      "mount       horn        jupiter     suit        washington  \n",
      "cold        chest       spell       watch       duck        \n",
      "casino      pistol      marble      cell        ivory       \n",
      "pole        pin         opera       telescope   copper      \n",
      "\n"
     ]
    }
   ],
   "source": [
    "print(brd)"
   ]
  },
  {
   "cell_type": "code",
   "execution_count": 163,
   "id": "3d3d29e5",
   "metadata": {},
   "outputs": [
    {
     "data": {
      "text/plain": [
       "['UNICORN']"
      ]
     },
     "execution_count": 163,
     "metadata": {},
     "output_type": "execute_result"
    }
   ],
   "source": [
    "brd.getColor(Color.BLACK)"
   ]
  },
  {
   "cell_type": "code",
   "execution_count": 96,
   "id": "9c3864b5",
   "metadata": {},
   "outputs": [
    {
     "name": "stdout",
     "output_type": "stream",
     "text": [
      "ICE CREAM\n",
      "LOCH NESS\n",
      "NEW YORK\n",
      "SCUBA DIVER\n",
      "4\n"
     ]
    }
   ],
   "source": [
    "counter = 0\n",
    "for word in vocabulary:\n",
    "    if word.lower() not in glove.keys():\n",
    "        counter += 1\n",
    "        print(word)\n",
    "print(counter)"
   ]
  },
  {
   "cell_type": "code",
   "execution_count": 106,
   "id": "224069d7",
   "metadata": {},
   "outputs": [
    {
     "data": {
      "text/plain": [
       "True"
      ]
     },
     "execution_count": 106,
     "metadata": {},
     "output_type": "execute_result"
    }
   ],
   "source": [
    "'newyork' in glove.keys()"
   ]
  },
  {
   "cell_type": "code",
   "execution_count": 314,
   "id": "bd4b0202",
   "metadata": {},
   "outputs": [],
   "source": [
    "testBrd = Board([Card('pit', Color.BLUE),\n",
    "                 Card('skyscraper', Color.BLUE),\n",
    "                 Card('theater', Color.BLUE),\n",
    "                 Card('organ', Color.BLUE),\n",
    "                 Card('litter', Color.BLUE),\n",
    "                 Card('day', Color.BLUE),\n",
    "                 Card('palm', Color.BLUE),\n",
    "                 Card('plate', Color.BLUE),\n",
    "                 Card('ambulance', Color.BLUE)])"
   ]
  },
  {
   "cell_type": "code",
   "execution_count": 315,
   "id": "d939198d",
   "metadata": {},
   "outputs": [
    {
     "name": "stdout",
     "output_type": "stream",
     "text": [
      "1\n",
      "(0.0627233538509605, 'days', ('day',))\n",
      "(0.07471216001000736, 'theatre', ('theater',))\n",
      "(0.11197830730993752, 'week', ('day',))\n",
      "(0.11712252690198821, 'next', ('day',))\n",
      "(0.12232884011841294, 'weekend', ('day',))\n",
      "(0.12532693762749159, 'night', ('day',))\n",
      "(0.12533595022103805, 'coming', ('day',))\n",
      "(0.12551679467876853, 'morning', ('day',))\n",
      "(0.12627023687287675, 'came', ('day',))\n",
      "(0.13016882271948826, 'here', ('day',))\n",
      "2\n",
      "(0.2947794461285403, 'bottom', ('pit', 'plate'))\n",
      "(0.2966389379687788, 'night', ('theater', 'day'))\n",
      "(0.2987758511679191, 'dirt', ('pit', 'litter'))\n",
      "(0.3114046274131093, 'garbage', ('pit', 'litter'))\n",
      "(0.3126123032423235, 'dirt', ('pit', 'plate'))\n",
      "(0.31504086320738584, 'days', ('pit', 'day'))\n",
      "(0.3188765804318552, 'starts', ('pit', 'day'))\n",
      "(0.320102246718943, 'place', ('pit', 'day'))\n",
      "(0.3205288448258398, 'coming', ('pit', 'day'))\n",
      "(0.32171904945371416, 'place', ('day', 'plate'))\n",
      "3\n",
      "(0.3400826061460636, 'dirt', ('pit', 'litter', 'plate'))\n",
      "(0.36001987622631476, 'bottom', ('pit', 'day', 'plate'))\n",
      "(0.3606437792595339, 'place', ('pit', 'day', 'plate'))\n",
      "(0.3619916558495397, 'off', ('pit', 'day', 'plate'))\n",
      "(0.37288499171902584, 'starts', ('pit', 'day', 'plate'))\n",
      "(0.3763845073435737, 'pile', ('pit', 'litter', 'plate'))\n",
      "(0.37852643052223495, 'just', ('pit', 'day', 'plate'))\n",
      "(0.37953320528897655, 'one', ('pit', 'day', 'plate'))\n",
      "(0.38091323629956736, 'out', ('pit', 'day', 'plate'))\n",
      "(0.3838374192324137, 'dirt', ('pit', 'litter', 'palm'))\n",
      "4\n",
      "(0.3935520934498985, 'dirt', ('pit', 'litter', 'palm', 'plate'))\n",
      "(0.4100479321161673, 'place', ('pit', 'theater', 'day', 'plate'))\n",
      "(0.4145949822087093, 'filled', ('pit', 'litter', 'day', 'plate'))\n",
      "(0.414929206951001, 'dirt', ('pit', 'litter', 'day', 'plate'))\n",
      "(0.4166850217271925, 'off', ('pit', 'day', 'palm', 'plate'))\n",
      "(0.4176687779353359, 'one', ('pit', 'theater', 'day', 'plate'))\n",
      "(0.4178586368148401, 'bottom', ('pit', 'litter', 'day', 'plate'))\n",
      "(0.41911611436401996, 'filled', ('pit', 'day', 'palm', 'plate'))\n",
      "(0.42211947841805486, 'place', ('pit', 'day', 'palm', 'plate'))\n",
      "(0.4271664451549516, 'just', ('pit', 'theater', 'day', 'plate'))\n",
      "5\n",
      "(0.42835633238197046, 'filled', ('pit', 'litter', 'day', 'palm', 'plate'))\n",
      "(0.44273547663308144, 'dirt', ('pit', 'litter', 'day', 'palm', 'plate'))\n",
      "(0.4453942014165033, 'filled', ('pit', 'theater', 'litter', 'day', 'plate'))\n",
      "(0.44739217235875106, 'water', ('pit', 'litter', 'day', 'palm', 'plate'))\n",
      "(0.449011107140752, 'filled', ('pit', 'theater', 'day', 'palm', 'plate'))\n",
      "(0.44934766087165745, 'place', ('pit', 'theater', 'day', 'palm', 'plate'))\n",
      "(0.4523554166537336, 'floor', ('pit', 'skyscraper', 'day', 'palm', 'plate'))\n",
      "(0.4528511445558939, 'floor', ('pit', 'skyscraper', 'theater', 'day', 'plate'))\n",
      "(0.4558054384895609, 'one', ('pit', 'theater', 'organ', 'day', 'plate'))\n",
      "(0.45635403855939877, 'one', ('pit', 'theater', 'day', 'palm', 'plate'))\n"
     ]
    }
   ],
   "source": [
    "for size in range(1,6):\n",
    "    print(size)\n",
    "    print(*testBrd.findNBest(size, 10), sep=\"\\n\")"
   ]
  },
  {
   "cell_type": "code",
   "execution_count": 293,
   "id": "91d4efaf",
   "metadata": {},
   "outputs": [
    {
     "data": {
      "text/plain": [
       "[(0.3928719186772989, 'for'),\n",
       " (0.3939521205891623, 'also'),\n",
       " (0.40378657927184936, 'officials'),\n",
       " (0.40398519704183117, 'working'),\n",
       " (0.4076677698117268, 'to'),\n",
       " (0.4097968244093371, 'as'),\n",
       " (0.41297207790100154, '.'),\n",
       " (0.41809930259583317, 'service'),\n",
       " (0.4189091632643077, 'now'),\n",
       " (0.42062552996920194, 'well')]"
      ]
     },
     "execution_count": 293,
     "metadata": {},
     "output_type": "execute_result"
    }
   ],
   "source": [
    "testBrd.findNClosest(['china', 'staff', 'state', 'agent', 'train'], 10)"
   ]
  },
  {
   "cell_type": "code",
   "execution_count": 298,
   "id": "02ad319c",
   "metadata": {},
   "outputs": [
    {
     "name": "stdout",
     "output_type": "stream",
     "text": [
      "0.3777119249059333\n",
      "0.3096891779126616\n"
     ]
    }
   ],
   "source": [
    "for word in ['disease', 'worm']:\n",
    "    print(distBtwnWords(word, 'parasite'))"
   ]
  },
  {
   "cell_type": "code",
   "execution_count": 272,
   "id": "09513273",
   "metadata": {},
   "outputs": [
    {
     "name": "stdout",
     "output_type": "stream",
     "text": [
      "0.768875241002086\n"
     ]
    }
   ],
   "source": [
    "print(distBtwnWords('train', 'agent'))"
   ]
  },
  {
   "cell_type": "code",
   "execution_count": 217,
   "id": "8c0c2387",
   "metadata": {},
   "outputs": [
    {
     "name": "stdout",
     "output_type": "stream",
     "text": [
      "('cliff', 'diamond', 'china')\n",
      "('cliff', 'diamond', 'bottle')\n",
      "('cliff', 'diamond', 'staff')\n",
      "('cliff', 'diamond', 'cloak')\n",
      "('cliff', 'diamond', 'state')\n",
      "('cliff', 'diamond', 'agent')\n",
      "('cliff', 'diamond', 'train')\n",
      "('cliff', 'china', 'bottle')\n",
      "('cliff', 'china', 'staff')\n",
      "('cliff', 'china', 'cloak')\n",
      "('cliff', 'china', 'state')\n",
      "('cliff', 'china', 'agent')\n",
      "('cliff', 'china', 'train')\n",
      "('cliff', 'bottle', 'staff')\n",
      "('cliff', 'bottle', 'cloak')\n",
      "('cliff', 'bottle', 'state')\n",
      "('cliff', 'bottle', 'agent')\n",
      "('cliff', 'bottle', 'train')\n",
      "('cliff', 'staff', 'cloak')\n",
      "('cliff', 'staff', 'state')\n",
      "('cliff', 'staff', 'agent')\n",
      "('cliff', 'staff', 'train')\n",
      "('cliff', 'cloak', 'state')\n",
      "('cliff', 'cloak', 'agent')\n",
      "('cliff', 'cloak', 'train')\n",
      "('cliff', 'state', 'agent')\n",
      "('cliff', 'state', 'train')\n",
      "('cliff', 'agent', 'train')\n",
      "('diamond', 'china', 'bottle')\n",
      "('diamond', 'china', 'staff')\n",
      "('diamond', 'china', 'cloak')\n",
      "('diamond', 'china', 'state')\n",
      "('diamond', 'china', 'agent')\n",
      "('diamond', 'china', 'train')\n",
      "('diamond', 'bottle', 'staff')\n",
      "('diamond', 'bottle', 'cloak')\n",
      "('diamond', 'bottle', 'state')\n",
      "('diamond', 'bottle', 'agent')\n",
      "('diamond', 'bottle', 'train')\n",
      "('diamond', 'staff', 'cloak')\n",
      "('diamond', 'staff', 'state')\n",
      "('diamond', 'staff', 'agent')\n",
      "('diamond', 'staff', 'train')\n",
      "('diamond', 'cloak', 'state')\n",
      "('diamond', 'cloak', 'agent')\n",
      "('diamond', 'cloak', 'train')\n",
      "('diamond', 'state', 'agent')\n",
      "('diamond', 'state', 'train')\n",
      "('diamond', 'agent', 'train')\n",
      "('china', 'bottle', 'staff')\n",
      "('china', 'bottle', 'cloak')\n",
      "('china', 'bottle', 'state')\n",
      "('china', 'bottle', 'agent')\n",
      "('china', 'bottle', 'train')\n",
      "('china', 'staff', 'cloak')\n",
      "('china', 'staff', 'state')\n",
      "('china', 'staff', 'agent')\n",
      "('china', 'staff', 'train')\n",
      "('china', 'cloak', 'state')\n",
      "('china', 'cloak', 'agent')\n",
      "('china', 'cloak', 'train')\n",
      "('china', 'state', 'agent')\n",
      "('china', 'state', 'train')\n",
      "('china', 'agent', 'train')\n",
      "('bottle', 'staff', 'cloak')\n",
      "('bottle', 'staff', 'state')\n",
      "('bottle', 'staff', 'agent')\n",
      "('bottle', 'staff', 'train')\n",
      "('bottle', 'cloak', 'state')\n",
      "('bottle', 'cloak', 'agent')\n",
      "('bottle', 'cloak', 'train')\n",
      "('bottle', 'state', 'agent')\n",
      "('bottle', 'state', 'train')\n",
      "('bottle', 'agent', 'train')\n",
      "('staff', 'cloak', 'state')\n",
      "('staff', 'cloak', 'agent')\n",
      "('staff', 'cloak', 'train')\n",
      "('staff', 'state', 'agent')\n",
      "('staff', 'state', 'train')\n",
      "('staff', 'agent', 'train')\n",
      "('cloak', 'state', 'agent')\n",
      "('cloak', 'state', 'train')\n",
      "('cloak', 'agent', 'train')\n",
      "('state', 'agent', 'train')\n"
     ]
    }
   ],
   "source": [
    "for subset in getSubsets(['cliff', 'diamond', 'china', 'bottle', 'staff', 'cloak', 'state', 'agent', 'train'],3):\n",
    "    print(subset)"
   ]
  },
  {
   "cell_type": "code",
   "execution_count": 179,
   "id": "bdca2951",
   "metadata": {},
   "outputs": [],
   "source": [
    "def findClosest(wordList, clueList):\n",
    "        best = min(clueList, key = lambda clue : max([distBtwnWords(clue, word) for word in wordList]))\n",
    "        return best, max([distBtwnWords(best, word) for word in wordList])"
   ]
  },
  {
   "cell_type": "code",
   "execution_count": 198,
   "id": "82d31bbb",
   "metadata": {},
   "outputs": [
    {
     "data": {
      "text/plain": [
       "('another', 0.6028596157985795)"
      ]
     },
     "execution_count": 198,
     "metadata": {},
     "output_type": "execute_result"
    }
   ],
   "source": [
    "brd.findClosest(['soldier','pass','temple'],glove.keys())"
   ]
  },
  {
   "cell_type": "code",
   "execution_count": null,
   "id": "438db0e4",
   "metadata": {},
   "outputs": [],
   "source": []
  },
  {
   "cell_type": "code",
   "execution_count": 154,
   "id": "d7aa1fa7",
   "metadata": {},
   "outputs": [],
   "source": [
    "def bestWord(board, color):\n",
    "    goodWords = board.getColor(color)\n",
    "    oppColor = Color.BLUE if color == Color.RED else Color.RED\n",
    "    oppWords = board.getColor(oppColor)\n",
    "    blackWord = board.getColor(Color.BLACK)\n",
    "        \n",
    "    def findClosest(wordList, clueList):\n",
    "        best = min(clueList, key = lambda clue : sum([distances[word][clue] for word in wordList]))\n",
    "        return best, max([distBtwnWords(best, word) for word in wordList])\n",
    "    \n",
    "    fourWordSubsets = getSubsets(goodWords, 4)\n",
    "    return min([clue, score for clue, score ])\n",
    "        "
   ]
  },
  {
   "cell_type": "code",
   "execution_count": 213,
   "id": "0f0c7ea0",
   "metadata": {},
   "outputs": [],
   "source": [
    "def getSubsets(lst, size):\n",
    "    return list(itertools.combinations(lst, size))"
   ]
  },
  {
   "cell_type": "code",
   "execution_count": null,
   "id": "9f7004e8",
   "metadata": {},
   "outputs": [],
   "source": []
  }
 ],
 "metadata": {
  "kernelspec": {
   "display_name": "Python 3 (ipykernel)",
   "language": "python",
   "name": "python3"
  },
  "language_info": {
   "codemirror_mode": {
    "name": "ipython",
    "version": 3
   },
   "file_extension": ".py",
   "mimetype": "text/x-python",
   "name": "python",
   "nbconvert_exporter": "python",
   "pygments_lexer": "ipython3",
   "version": "3.9.5"
  }
 },
 "nbformat": 4,
 "nbformat_minor": 5
}
